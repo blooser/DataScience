{
 "cells": [
  {
   "cell_type": "code",
   "execution_count": 1,
   "metadata": {},
   "outputs": [],
   "source": [
    "import pandas as pd\n",
    "import numpy as np\n",
    "%matplotlib inline\n",
    "import matplotlib.pyplot as plt"
   ]
  },
  {
   "cell_type": "code",
   "execution_count": 2,
   "metadata": {},
   "outputs": [],
   "source": [
    "dataset = pd.read_csv(\"letter-recognition.data\", header=None)"
   ]
  },
  {
   "cell_type": "code",
   "execution_count": 3,
   "metadata": {},
   "outputs": [
    {
     "data": {
      "text/html": [
       "<div>\n",
       "<style scoped>\n",
       "    .dataframe tbody tr th:only-of-type {\n",
       "        vertical-align: middle;\n",
       "    }\n",
       "\n",
       "    .dataframe tbody tr th {\n",
       "        vertical-align: top;\n",
       "    }\n",
       "\n",
       "    .dataframe thead th {\n",
       "        text-align: right;\n",
       "    }\n",
       "</style>\n",
       "<table border=\"1\" class=\"dataframe\">\n",
       "  <thead>\n",
       "    <tr style=\"text-align: right;\">\n",
       "      <th></th>\n",
       "      <th>0</th>\n",
       "      <th>1</th>\n",
       "      <th>2</th>\n",
       "      <th>3</th>\n",
       "      <th>4</th>\n",
       "      <th>5</th>\n",
       "      <th>6</th>\n",
       "      <th>7</th>\n",
       "      <th>8</th>\n",
       "      <th>9</th>\n",
       "      <th>10</th>\n",
       "      <th>11</th>\n",
       "      <th>12</th>\n",
       "      <th>13</th>\n",
       "      <th>14</th>\n",
       "      <th>15</th>\n",
       "      <th>16</th>\n",
       "    </tr>\n",
       "  </thead>\n",
       "  <tbody>\n",
       "    <tr>\n",
       "      <th>0</th>\n",
       "      <td>T</td>\n",
       "      <td>2</td>\n",
       "      <td>8</td>\n",
       "      <td>3</td>\n",
       "      <td>5</td>\n",
       "      <td>1</td>\n",
       "      <td>8</td>\n",
       "      <td>13</td>\n",
       "      <td>0</td>\n",
       "      <td>6</td>\n",
       "      <td>6</td>\n",
       "      <td>10</td>\n",
       "      <td>8</td>\n",
       "      <td>0</td>\n",
       "      <td>8</td>\n",
       "      <td>0</td>\n",
       "      <td>8</td>\n",
       "    </tr>\n",
       "    <tr>\n",
       "      <th>1</th>\n",
       "      <td>I</td>\n",
       "      <td>5</td>\n",
       "      <td>12</td>\n",
       "      <td>3</td>\n",
       "      <td>7</td>\n",
       "      <td>2</td>\n",
       "      <td>10</td>\n",
       "      <td>5</td>\n",
       "      <td>5</td>\n",
       "      <td>4</td>\n",
       "      <td>13</td>\n",
       "      <td>3</td>\n",
       "      <td>9</td>\n",
       "      <td>2</td>\n",
       "      <td>8</td>\n",
       "      <td>4</td>\n",
       "      <td>10</td>\n",
       "    </tr>\n",
       "    <tr>\n",
       "      <th>2</th>\n",
       "      <td>D</td>\n",
       "      <td>4</td>\n",
       "      <td>11</td>\n",
       "      <td>6</td>\n",
       "      <td>8</td>\n",
       "      <td>6</td>\n",
       "      <td>10</td>\n",
       "      <td>6</td>\n",
       "      <td>2</td>\n",
       "      <td>6</td>\n",
       "      <td>10</td>\n",
       "      <td>3</td>\n",
       "      <td>7</td>\n",
       "      <td>3</td>\n",
       "      <td>7</td>\n",
       "      <td>3</td>\n",
       "      <td>9</td>\n",
       "    </tr>\n",
       "    <tr>\n",
       "      <th>3</th>\n",
       "      <td>N</td>\n",
       "      <td>7</td>\n",
       "      <td>11</td>\n",
       "      <td>6</td>\n",
       "      <td>6</td>\n",
       "      <td>3</td>\n",
       "      <td>5</td>\n",
       "      <td>9</td>\n",
       "      <td>4</td>\n",
       "      <td>6</td>\n",
       "      <td>4</td>\n",
       "      <td>4</td>\n",
       "      <td>10</td>\n",
       "      <td>6</td>\n",
       "      <td>10</td>\n",
       "      <td>2</td>\n",
       "      <td>8</td>\n",
       "    </tr>\n",
       "    <tr>\n",
       "      <th>4</th>\n",
       "      <td>G</td>\n",
       "      <td>2</td>\n",
       "      <td>1</td>\n",
       "      <td>3</td>\n",
       "      <td>1</td>\n",
       "      <td>1</td>\n",
       "      <td>8</td>\n",
       "      <td>6</td>\n",
       "      <td>6</td>\n",
       "      <td>6</td>\n",
       "      <td>6</td>\n",
       "      <td>5</td>\n",
       "      <td>9</td>\n",
       "      <td>1</td>\n",
       "      <td>7</td>\n",
       "      <td>5</td>\n",
       "      <td>10</td>\n",
       "    </tr>\n",
       "  </tbody>\n",
       "</table>\n",
       "</div>"
      ],
      "text/plain": [
       "  0   1   2   3   4   5   6   7   8   9   10  11  12  13  14  15  16\n",
       "0  T   2   8   3   5   1   8  13   0   6   6  10   8   0   8   0   8\n",
       "1  I   5  12   3   7   2  10   5   5   4  13   3   9   2   8   4  10\n",
       "2  D   4  11   6   8   6  10   6   2   6  10   3   7   3   7   3   9\n",
       "3  N   7  11   6   6   3   5   9   4   6   4   4  10   6  10   2   8\n",
       "4  G   2   1   3   1   1   8   6   6   6   6   5   9   1   7   5  10"
      ]
     },
     "execution_count": 3,
     "metadata": {},
     "output_type": "execute_result"
    }
   ],
   "source": [
    "dataset.head()"
   ]
  },
  {
   "cell_type": "code",
   "execution_count": 4,
   "metadata": {},
   "outputs": [
    {
     "name": "stdout",
     "output_type": "stream",
     "text": [
      "<class 'pandas.core.frame.DataFrame'>\n",
      "RangeIndex: 20000 entries, 0 to 19999\n",
      "Data columns (total 17 columns):\n",
      "0     20000 non-null object\n",
      "1     20000 non-null int64\n",
      "2     20000 non-null int64\n",
      "3     20000 non-null int64\n",
      "4     20000 non-null int64\n",
      "5     20000 non-null int64\n",
      "6     20000 non-null int64\n",
      "7     20000 non-null int64\n",
      "8     20000 non-null int64\n",
      "9     20000 non-null int64\n",
      "10    20000 non-null int64\n",
      "11    20000 non-null int64\n",
      "12    20000 non-null int64\n",
      "13    20000 non-null int64\n",
      "14    20000 non-null int64\n",
      "15    20000 non-null int64\n",
      "16    20000 non-null int64\n",
      "dtypes: int64(16), object(1)\n",
      "memory usage: 2.6+ MB\n"
     ]
    }
   ],
   "source": [
    "dataset.info()"
   ]
  },
  {
   "cell_type": "code",
   "execution_count": 5,
   "metadata": {},
   "outputs": [
    {
     "data": {
      "text/plain": [
       "U    813\n",
       "D    805\n",
       "P    803\n",
       "T    796\n",
       "M    792\n",
       "A    789\n",
       "X    787\n",
       "Y    786\n",
       "N    783\n",
       "Q    783\n",
       "F    775\n",
       "G    773\n",
       "E    768\n",
       "B    766\n",
       "V    764\n",
       "L    761\n",
       "R    758\n",
       "I    755\n",
       "O    753\n",
       "W    752\n",
       "S    748\n",
       "J    747\n",
       "K    739\n",
       "C    736\n",
       "Z    734\n",
       "H    734\n",
       "Name: 0, dtype: int64"
      ]
     },
     "execution_count": 5,
     "metadata": {},
     "output_type": "execute_result"
    }
   ],
   "source": [
    "dataset[0].value_counts()"
   ]
  },
  {
   "cell_type": "code",
   "execution_count": 6,
   "metadata": {},
   "outputs": [
    {
     "data": {
      "text/plain": [
       "array([[<matplotlib.axes._subplots.AxesSubplot object at 0x7f92a5d712b0>,\n",
       "        <matplotlib.axes._subplots.AxesSubplot object at 0x7f92a3d3dc88>,\n",
       "        <matplotlib.axes._subplots.AxesSubplot object at 0x7f92a3cf01d0>,\n",
       "        <matplotlib.axes._subplots.AxesSubplot object at 0x7f92a3c97748>],\n",
       "       [<matplotlib.axes._subplots.AxesSubplot object at 0x7f92a3cc0cc0>,\n",
       "        <matplotlib.axes._subplots.AxesSubplot object at 0x7f92a3c70278>,\n",
       "        <matplotlib.axes._subplots.AxesSubplot object at 0x7f92a3c177f0>,\n",
       "        <matplotlib.axes._subplots.AxesSubplot object at 0x7f92a3c3dda0>],\n",
       "       [<matplotlib.axes._subplots.AxesSubplot object at 0x7f92a3c3ddd8>,\n",
       "        <matplotlib.axes._subplots.AxesSubplot object at 0x7f92a3b95898>,\n",
       "        <matplotlib.axes._subplots.AxesSubplot object at 0x7f92a3bbee10>,\n",
       "        <matplotlib.axes._subplots.AxesSubplot object at 0x7f92a3b703c8>],\n",
       "       [<matplotlib.axes._subplots.AxesSubplot object at 0x7f92a3b14940>,\n",
       "        <matplotlib.axes._subplots.AxesSubplot object at 0x7f92a3b3ceb8>,\n",
       "        <matplotlib.axes._subplots.AxesSubplot object at 0x7f92a3aec470>,\n",
       "        <matplotlib.axes._subplots.AxesSubplot object at 0x7f92a3a929b0>]],\n",
       "      dtype=object)"
      ]
     },
     "execution_count": 6,
     "metadata": {},
     "output_type": "execute_result"
    },
    {
     "data": {
      "image/png": "[encoded data removed]",
      "text/plain": [
       "<Figure size 1008x864 with 16 Axes>"
      ]
     },
     "metadata": {
      "needs_background": "light"
     },
     "output_type": "display_data"
    }
   ],
   "source": [
    "dataset.hist(bins=16, figsize=(14, 12))"
   ]
  },
  {
   "cell_type": "code",
   "execution_count": 7,
   "metadata": {},
   "outputs": [],
   "source": [
    "X_data = dataset.iloc[:, 1:].values\n",
    "y_data = dataset.iloc[:, 0].values"
   ]
  },
  {
   "cell_type": "code",
   "execution_count": 8,
   "metadata": {},
   "outputs": [],
   "source": [
    "from sklearn.preprocessing import LabelBinarizer\n",
    "\n",
    "l_binarizer = LabelBinarizer()\n",
    "y_data = l_binarizer.fit_transform(y_data)"
   ]
  },
  {
   "cell_type": "code",
   "execution_count": 9,
   "metadata": {},
   "outputs": [],
   "source": [
    "m, n = X_data.shape"
   ]
  },
  {
   "cell_type": "code",
   "execution_count": 10,
   "metadata": {},
   "outputs": [],
   "source": [
    "n_inputs = n\n",
    "n_hidden1 = 400\n",
    "n_hidden2 = 165\n",
    "n_outputs = 26 # A..Z"
   ]
  },
  {
   "cell_type": "code",
   "execution_count": 11,
   "metadata": {},
   "outputs": [],
   "source": [
    "test_ratio = 0.2\n",
    "test_size = int(m*test_ratio)\n",
    "train_size = m - test_size\n",
    "\n",
    "X_train = X_data[:-test_size]\n",
    "X_test = X_data[-test_size:]\n",
    "y_train = y_data[:-test_size]\n",
    "y_test = y_data[-test_size:]"
   ]
  },
  {
   "cell_type": "code",
   "execution_count": 12,
   "metadata": {},
   "outputs": [],
   "source": [
    "import tensorflow as tf\n",
    "\n",
    "X = tf.placeholder(tf.float32, shape=(None, n_inputs))\n",
    "y = tf.placeholder(tf.int32, shape=(None, n_outputs))\n",
    "\n",
    "training = tf.placeholder_with_default(False, shape=())"
   ]
  },
  {
   "cell_type": "code",
   "execution_count": 13,
   "metadata": {},
   "outputs": [],
   "source": [
    "from functools import partial\n",
    "\n",
    "batch_momentum = 0.9\n",
    "batch_norm_layer = partial(tf.layers.batch_normalization, training=training, momentum=batch_momentum)\n",
    "\n",
    "hidden1 = tf.layers.dense(X, n_hidden1)\n",
    "bn1 = batch_norm_layer(hidden1)\n",
    "bn1_act = tf.nn.elu(bn1)\n",
    "\n",
    "hidden2 = tf.layers.dense(bn1_act, n_hidden2)\n",
    "bn2 = batch_norm_layer(hidden2)\n",
    "bn2_act = tf.nn.elu(bn2)\n",
    "\n",
    "logits_before_bn = tf.layers.dense(bn2_act, n_outputs)\n",
    "logits = batch_norm_layer(logits_before_bn)"
   ]
  },
  {
   "cell_type": "code",
   "execution_count": 14,
   "metadata": {},
   "outputs": [],
   "source": [
    "xentropy = tf.nn.sparse_softmax_cross_entropy_with_logits(labels=tf.argmax(y, axis=1), logits=logits)\n",
    "loss = tf.reduce_mean(xentropy)"
   ]
  },
  {
   "cell_type": "code",
   "execution_count": 15,
   "metadata": {},
   "outputs": [],
   "source": [
    "learning_rate = 0.01\n",
    "\n",
    "optimizer = tf.train.GradientDescentOptimizer(learning_rate)\n",
    "training_op = optimizer.minimize(loss)"
   ]
  },
  {
   "cell_type": "code",
   "execution_count": 16,
   "metadata": {},
   "outputs": [],
   "source": [
    "correct = tf.nn.in_top_k(logits, tf.argmax(y, axis=1), 1)\n",
    "accuracy = tf.reduce_mean(tf.cast(correct, tf.float32))"
   ]
  },
  {
   "cell_type": "code",
   "execution_count": 17,
   "metadata": {},
   "outputs": [],
   "source": [
    "init = tf.global_variables_initializer()"
   ]
  },
  {
   "cell_type": "code",
   "execution_count": 24,
   "metadata": {},
   "outputs": [],
   "source": [
    "n_epochs = 45\n",
    "batch_size = 120\n",
    "n_batches = int(np.ceil(m/batch_size))"
   ]
  },
  {
   "cell_type": "code",
   "execution_count": 19,
   "metadata": {},
   "outputs": [],
   "source": [
    "def fetch_batch(epoch, batch_index, batch_size):\n",
    "    indices = np.random.randint(train_size, size=batch_size)\n",
    "    X_batch = X_train[indices]\n",
    "    y_batch = y_train[indices]\n",
    "    return X_batch, y_batch"
   ]
  },
  {
   "cell_type": "code",
   "execution_count": 25,
   "metadata": {},
   "outputs": [
    {
     "name": "stdout",
     "output_type": "stream",
     "text": [
      "Epoch: 0 Train Acc: 71.667 Test Acc: 67.725 Test Loss: 156.973\n",
      "Epoch: 1 Train Acc: 75.000 Test Acc: 74.500 Test Loss: 127.534\n",
      "Epoch: 2 Train Acc: 80.833 Test Acc: 77.300 Test Loss: 109.695\n",
      "Epoch: 3 Train Acc: 80.833 Test Acc: 80.000 Test Loss: 96.990\n",
      "Epoch: 4 Train Acc: 92.500 Test Acc: 81.600 Test Loss: 89.429\n",
      "Epoch: 5 Train Acc: 87.500 Test Acc: 84.500 Test Loss: 79.611\n",
      "Epoch: 6 Train Acc: 90.000 Test Acc: 85.175 Test Loss: 74.482\n",
      "Epoch: 7 Train Acc: 92.500 Test Acc: 84.750 Test Loss: 70.488\n",
      "Epoch: 8 Train Acc: 95.000 Test Acc: 86.050 Test Loss: 64.499\n",
      "Epoch: 9 Train Acc: 91.667 Test Acc: 86.150 Test Loss: 63.040\n",
      "Epoch: 10 Train Acc: 95.833 Test Acc: 87.525 Test Loss: 57.930\n",
      "Epoch: 11 Train Acc: 89.167 Test Acc: 87.525 Test Loss: 59.123\n",
      "Epoch: 12 Train Acc: 95.833 Test Acc: 89.000 Test Loss: 52.312\n",
      "Epoch: 13 Train Acc: 94.167 Test Acc: 90.100 Test Loss: 48.033\n",
      "Epoch: 14 Train Acc: 91.667 Test Acc: 90.200 Test Loss: 48.201\n",
      "Epoch: 15 Train Acc: 96.667 Test Acc: 90.000 Test Loss: 46.070\n",
      "Epoch: 16 Train Acc: 95.000 Test Acc: 89.925 Test Loss: 44.147\n",
      "Epoch: 17 Train Acc: 98.333 Test Acc: 89.300 Test Loss: 46.666\n",
      "Epoch: 18 Train Acc: 93.333 Test Acc: 88.750 Test Loss: 46.413\n",
      "Epoch: 19 Train Acc: 96.667 Test Acc: 91.425 Test Loss: 40.184\n",
      "Epoch: 20 Train Acc: 96.667 Test Acc: 89.675 Test Loss: 42.406\n",
      "Epoch: 21 Train Acc: 95.833 Test Acc: 91.850 Test Loss: 36.832\n",
      "Epoch: 22 Train Acc: 96.667 Test Acc: 91.475 Test Loss: 36.906\n",
      "Epoch: 23 Train Acc: 98.333 Test Acc: 92.100 Test Loss: 34.919\n",
      "Epoch: 24 Train Acc: 97.500 Test Acc: 92.300 Test Loss: 34.637\n",
      "Epoch: 25 Train Acc: 96.667 Test Acc: 92.700 Test Loss: 33.623\n",
      "Epoch: 26 Train Acc: 95.000 Test Acc: 92.025 Test Loss: 34.463\n",
      "Epoch: 27 Train Acc: 98.333 Test Acc: 91.775 Test Loss: 34.441\n",
      "Epoch: 28 Train Acc: 95.833 Test Acc: 92.300 Test Loss: 33.206\n",
      "Epoch: 29 Train Acc: 97.500 Test Acc: 92.575 Test Loss: 31.744\n",
      "Epoch: 30 Train Acc: 96.667 Test Acc: 92.675 Test Loss: 30.810\n",
      "Epoch: 31 Train Acc: 97.500 Test Acc: 91.500 Test Loss: 33.265\n",
      "Epoch: 32 Train Acc: 97.500 Test Acc: 92.225 Test Loss: 32.285\n",
      "Epoch: 33 Train Acc: 96.667 Test Acc: 91.700 Test Loss: 32.639\n",
      "Epoch: 34 Train Acc: 99.167 Test Acc: 92.750 Test Loss: 29.178\n",
      "Epoch: 35 Train Acc: 98.333 Test Acc: 92.850 Test Loss: 28.761\n",
      "Epoch: 36 Train Acc: 99.167 Test Acc: 93.825 Test Loss: 27.035\n",
      "Epoch: 37 Train Acc: 97.500 Test Acc: 93.325 Test Loss: 28.405\n",
      "Epoch: 38 Train Acc: 99.167 Test Acc: 93.425 Test Loss: 27.895\n",
      "Epoch: 39 Train Acc: 98.333 Test Acc: 92.725 Test Loss: 27.351\n",
      "Epoch: 40 Train Acc: 98.333 Test Acc: 93.725 Test Loss: 26.478\n",
      "Epoch: 41 Train Acc: 100.000 Test Acc: 94.450 Test Loss: 23.597\n",
      "Epoch: 42 Train Acc: 99.167 Test Acc: 93.725 Test Loss: 24.269\n",
      "Epoch: 43 Train Acc: 99.167 Test Acc: 94.125 Test Loss: 23.947\n",
      "Epoch: 44 Train Acc: 95.833 Test Acc: 92.750 Test Loss: 29.417\n"
     ]
    }
   ],
   "source": [
    "extra_update_ops = tf.get_collection(tf.GraphKeys.UPDATE_OPS)\n",
    "\n",
    "with tf.Session() as sess:\n",
    "    init.run()\n",
    "    \n",
    "    for epoch in range(n_epochs):\n",
    "            for batch_index in range(n_batches):\n",
    "                X_batch, y_batch = fetch_batch(epoch, batch_index, batch_size)\n",
    "                sess.run([training_op, extra_update_ops], feed_dict={training: True, X: X_batch, y: y_batch})\n",
    "                \n",
    "            train_acc_val = accuracy.eval(feed_dict={X: X_batch, y: y_batch})\n",
    "            test_acc_val = accuracy.eval(feed_dict={X: X_test, y: y_test})\n",
    "            test_loss_val = loss.eval(feed_dict={X: X_test, y: y_test})\n",
    "            \n",
    "            print(\"Epoch:\", epoch, \"Train Acc: {:.3f}\".format(100*train_acc_val), \n",
    "                                   \"Test Acc: {:.3f}\".format(100*test_acc_val),\n",
    "                                   \"Test Loss: {:.3f}\".format(100*test_loss_val))"
   ]
  }
 ],
 "metadata": {
  "kernelspec": {
   "display_name": "Python 3",
   "language": "python",
   "name": "python3"
  },
  "language_info": {
   "codemirror_mode": {
    "name": "ipython",
    "version": 3
   },
   "file_extension": ".py",
   "mimetype": "text/x-python",
   "name": "python",
   "nbconvert_exporter": "python",
   "pygments_lexer": "ipython3",
   "version": "3.6.6"
  }
 },
 "nbformat": 4,
 "nbformat_minor": 2
}
