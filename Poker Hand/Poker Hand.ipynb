{
 "cells": [
  {
   "cell_type": "code",
   "execution_count": 1,
   "metadata": {},
   "outputs": [],
   "source": [
    "import pandas as pd\n",
    "import numpy as np\n",
    "%matplotlib inline\n",
    "import matplotlib.pyplot as plt"
   ]
  },
  {
   "cell_type": "code",
   "execution_count": 2,
   "metadata": {},
   "outputs": [],
   "source": [
    "dataset = pd.read_csv(\"poker-hand-training-true.data\", header=None)"
   ]
  },
  {
   "cell_type": "code",
   "execution_count": 3,
   "metadata": {},
   "outputs": [
    {
     "data": {
      "text/html": [
       "<div>\n",
       "<style scoped>\n",
       "    .dataframe tbody tr th:only-of-type {\n",
       "        vertical-align: middle;\n",
       "    }\n",
       "\n",
       "    .dataframe tbody tr th {\n",
       "        vertical-align: top;\n",
       "    }\n",
       "\n",
       "    .dataframe thead th {\n",
       "        text-align: right;\n",
       "    }\n",
       "</style>\n",
       "<table border=\"1\" class=\"dataframe\">\n",
       "  <thead>\n",
       "    <tr style=\"text-align: right;\">\n",
       "      <th></th>\n",
       "      <th>0</th>\n",
       "      <th>1</th>\n",
       "      <th>2</th>\n",
       "      <th>3</th>\n",
       "      <th>4</th>\n",
       "      <th>5</th>\n",
       "      <th>6</th>\n",
       "      <th>7</th>\n",
       "      <th>8</th>\n",
       "      <th>9</th>\n",
       "      <th>10</th>\n",
       "    </tr>\n",
       "  </thead>\n",
       "  <tbody>\n",
       "    <tr>\n",
       "      <th>0</th>\n",
       "      <td>1</td>\n",
       "      <td>10</td>\n",
       "      <td>1</td>\n",
       "      <td>11</td>\n",
       "      <td>1</td>\n",
       "      <td>13</td>\n",
       "      <td>1</td>\n",
       "      <td>12</td>\n",
       "      <td>1</td>\n",
       "      <td>1</td>\n",
       "      <td>9</td>\n",
       "    </tr>\n",
       "    <tr>\n",
       "      <th>1</th>\n",
       "      <td>2</td>\n",
       "      <td>11</td>\n",
       "      <td>2</td>\n",
       "      <td>13</td>\n",
       "      <td>2</td>\n",
       "      <td>10</td>\n",
       "      <td>2</td>\n",
       "      <td>12</td>\n",
       "      <td>2</td>\n",
       "      <td>1</td>\n",
       "      <td>9</td>\n",
       "    </tr>\n",
       "    <tr>\n",
       "      <th>2</th>\n",
       "      <td>3</td>\n",
       "      <td>12</td>\n",
       "      <td>3</td>\n",
       "      <td>11</td>\n",
       "      <td>3</td>\n",
       "      <td>13</td>\n",
       "      <td>3</td>\n",
       "      <td>10</td>\n",
       "      <td>3</td>\n",
       "      <td>1</td>\n",
       "      <td>9</td>\n",
       "    </tr>\n",
       "    <tr>\n",
       "      <th>3</th>\n",
       "      <td>4</td>\n",
       "      <td>10</td>\n",
       "      <td>4</td>\n",
       "      <td>11</td>\n",
       "      <td>4</td>\n",
       "      <td>1</td>\n",
       "      <td>4</td>\n",
       "      <td>13</td>\n",
       "      <td>4</td>\n",
       "      <td>12</td>\n",
       "      <td>9</td>\n",
       "    </tr>\n",
       "    <tr>\n",
       "      <th>4</th>\n",
       "      <td>4</td>\n",
       "      <td>1</td>\n",
       "      <td>4</td>\n",
       "      <td>13</td>\n",
       "      <td>4</td>\n",
       "      <td>12</td>\n",
       "      <td>4</td>\n",
       "      <td>11</td>\n",
       "      <td>4</td>\n",
       "      <td>10</td>\n",
       "      <td>9</td>\n",
       "    </tr>\n",
       "  </tbody>\n",
       "</table>\n",
       "</div>"
      ],
      "text/plain": [
       "   0   1   2   3   4   5   6   7   8   9   10\n",
       "0   1  10   1  11   1  13   1  12   1   1   9\n",
       "1   2  11   2  13   2  10   2  12   2   1   9\n",
       "2   3  12   3  11   3  13   3  10   3   1   9\n",
       "3   4  10   4  11   4   1   4  13   4  12   9\n",
       "4   4   1   4  13   4  12   4  11   4  10   9"
      ]
     },
     "execution_count": 3,
     "metadata": {},
     "output_type": "execute_result"
    }
   ],
   "source": [
    "dataset.head()"
   ]
  },
  {
   "cell_type": "code",
   "execution_count": 4,
   "metadata": {},
   "outputs": [
    {
     "name": "stdout",
     "output_type": "stream",
     "text": [
      "<class 'pandas.core.frame.DataFrame'>\n",
      "RangeIndex: 25010 entries, 0 to 25009\n",
      "Data columns (total 11 columns):\n",
      "0     25010 non-null int64\n",
      "1     25010 non-null int64\n",
      "2     25010 non-null int64\n",
      "3     25010 non-null int64\n",
      "4     25010 non-null int64\n",
      "5     25010 non-null int64\n",
      "6     25010 non-null int64\n",
      "7     25010 non-null int64\n",
      "8     25010 non-null int64\n",
      "9     25010 non-null int64\n",
      "10    25010 non-null int64\n",
      "dtypes: int64(11)\n",
      "memory usage: 2.1 MB\n"
     ]
    }
   ],
   "source": [
    "dataset.info()"
   ]
  },
  {
   "cell_type": "code",
   "execution_count": 5,
   "metadata": {},
   "outputs": [
    {
     "data": {
      "text/plain": [
       "array([[<matplotlib.axes._subplots.AxesSubplot object at 0x7f442ff39400>,\n",
       "        <matplotlib.axes._subplots.AxesSubplot object at 0x7f442df047b8>,\n",
       "        <matplotlib.axes._subplots.AxesSubplot object at 0x7f442deadd30>],\n",
       "       [<matplotlib.axes._subplots.AxesSubplot object at 0x7f442de5e2e8>,\n",
       "        <matplotlib.axes._subplots.AxesSubplot object at 0x7f442de83860>,\n",
       "        <matplotlib.axes._subplots.AxesSubplot object at 0x7f442de2ddd8>],\n",
       "       [<matplotlib.axes._subplots.AxesSubplot object at 0x7f442dddd390>,\n",
       "        <matplotlib.axes._subplots.AxesSubplot object at 0x7f442de01940>,\n",
       "        <matplotlib.axes._subplots.AxesSubplot object at 0x7f442de01978>],\n",
       "       [<matplotlib.axes._subplots.AxesSubplot object at 0x7f442dd5a438>,\n",
       "        <matplotlib.axes._subplots.AxesSubplot object at 0x7f442dd819b0>,\n",
       "        <matplotlib.axes._subplots.AxesSubplot object at 0x7f442dd2aef0>]],\n",
       "      dtype=object)"
      ]
     },
     "execution_count": 5,
     "metadata": {},
     "output_type": "execute_result"
    },
    {
     "data": {
      "image/png": "[encoded data removed]",
      "text/plain": [
       "<Figure size 1152x1008 with 12 Axes>"
      ]
     },
     "metadata": {
      "needs_background": "light"
     },
     "output_type": "display_data"
    }
   ],
   "source": [
    "dataset.hist(bins=18, figsize=(16, 14))"
   ]
  },
  {
   "cell_type": "code",
   "execution_count": 6,
   "metadata": {},
   "outputs": [
    {
     "data": {
      "text/plain": [
       "0    12493\n",
       "1    10599\n",
       "2     1206\n",
       "3      513\n",
       "4       93\n",
       "5       54\n",
       "6       36\n",
       "7        6\n",
       "9        5\n",
       "8        5\n",
       "Name: 10, dtype: int64"
      ]
     },
     "execution_count": 6,
     "metadata": {},
     "output_type": "execute_result"
    }
   ],
   "source": [
    "dataset[10].value_counts()"
   ]
  },
  {
   "cell_type": "code",
   "execution_count": 7,
   "metadata": {},
   "outputs": [
    {
     "data": {
      "text/plain": [
       "10    1.000000\n",
       "7     0.010163\n",
       "0     0.008244\n",
       "4     0.003951\n",
       "1     0.002312\n",
       "2    -0.001135\n",
       "6    -0.001552\n",
       "9    -0.002414\n",
       "3    -0.005191\n",
       "8    -0.005616\n",
       "5    -0.006256\n",
       "Name: 10, dtype: float64"
      ]
     },
     "execution_count": 7,
     "metadata": {},
     "output_type": "execute_result"
    }
   ],
   "source": [
    "corr_matrix = dataset.corr()\n",
    "corr_matrix[10].sort_values(ascending=False)"
   ]
  },
  {
   "cell_type": "code",
   "execution_count": 8,
   "metadata": {},
   "outputs": [],
   "source": [
    "X_train = dataset.iloc[:, :-1].values\n",
    "y_train = dataset.iloc[:, -1].values\n",
    "\n",
    "m, n = X_train.shape\n",
    "train_size = m"
   ]
  },
  {
   "cell_type": "code",
   "execution_count": 9,
   "metadata": {},
   "outputs": [],
   "source": [
    "n_inputs = n\n",
    "n_hidden1 = 300\n",
    "n_hidden2 = 140\n",
    "n_hidden3 = 70\n",
    "n_outputs = 10"
   ]
  },
  {
   "cell_type": "code",
   "execution_count": 10,
   "metadata": {},
   "outputs": [],
   "source": [
    "dataset_testing = pd.read_csv(\"poker-hand-testing.zip\", compression=\"zip\", header=None)"
   ]
  },
  {
   "cell_type": "code",
   "execution_count": 11,
   "metadata": {},
   "outputs": [],
   "source": [
    "X_test = dataset_testing.iloc[:, :-1].values\n",
    "y_test = dataset_testing.iloc[:, -1].values\n",
    "\n",
    "test_size, _ = X_test.shape "
   ]
  },
  {
   "cell_type": "code",
   "execution_count": 12,
   "metadata": {},
   "outputs": [],
   "source": [
    "import tensorflow as tf\n",
    "\n",
    "X = tf.placeholder(tf.float32, shape=(None, n_inputs))\n",
    "y = tf.placeholder(tf.int32, shape=(None))\n",
    "\n",
    "training = tf.placeholder_with_default(False, shape=())"
   ]
  },
  {
   "cell_type": "code",
   "execution_count": 13,
   "metadata": {},
   "outputs": [],
   "source": [
    "drop_rate = 0.1\n",
    "\n",
    "hidden1 = tf.layers.dense(X, n_hidden1, activation=tf.nn.elu)\n",
    "hidden1_drop = tf.layers.dropout(hidden1, drop_rate, training=training)\n",
    "\n",
    "hidden2 = tf.layers.dense(hidden1_drop, n_hidden2, activation=tf.nn.elu)\n",
    "hidden2_drop = tf.layers.dropout(hidden2, drop_rate, training=training)\n",
    "\n",
    "hidden3 = tf.layers.dense(hidden2_drop, n_hidden3, activation=tf.nn.elu)\n",
    "hidden3_drop = tf.layers.dropout(hidden3, drop_rate, training=training)\n",
    "logits = tf.layers.dense(hidden3_drop, n_outputs)"
   ]
  },
  {
   "cell_type": "code",
   "execution_count": 14,
   "metadata": {},
   "outputs": [],
   "source": [
    "xentropy = tf.nn.sparse_softmax_cross_entropy_with_logits(labels=y, logits=logits)\n",
    "loss = tf.reduce_mean(xentropy)"
   ]
  },
  {
   "cell_type": "code",
   "execution_count": 15,
   "metadata": {},
   "outputs": [],
   "source": [
    "learning_rate = 0.01\n",
    "\n",
    "optimizer = tf.train.MomentumOptimizer(learning_rate, momentum=0.9, use_nesterov=True)\n",
    "training_op = optimizer.minimize(loss)"
   ]
  },
  {
   "cell_type": "code",
   "execution_count": 16,
   "metadata": {},
   "outputs": [],
   "source": [
    "correct = tf.nn.in_top_k(logits, y, 1)\n",
    "accuracy = tf.reduce_mean(tf.cast(correct, tf.float32))"
   ]
  },
  {
   "cell_type": "code",
   "execution_count": 17,
   "metadata": {},
   "outputs": [],
   "source": [
    "init = tf.global_variables_initializer()"
   ]
  },
  {
   "cell_type": "code",
   "execution_count": 18,
   "metadata": {},
   "outputs": [],
   "source": [
    "n_epochs = 100\n",
    "batch_size = 70\n",
    "n_batches = int(np.ceil(m/batch_size))"
   ]
  },
  {
   "cell_type": "code",
   "execution_count": 19,
   "metadata": {},
   "outputs": [],
   "source": [
    "def fetch_batch(epoch, batch_index, batch_size):\n",
    "    np.random.seed(epoch * batch_index + batch_size)\n",
    "    indices = np.random.randint(train_size, size=batch_size)\n",
    "    X_batch = X_train[indices]\n",
    "    y_batch = y_train[indices]\n",
    "    return X_batch, y_batch"
   ]
  },
  {
   "cell_type": "code",
   "execution_count": 20,
   "metadata": {},
   "outputs": [
    {
     "name": "stdout",
     "output_type": "stream",
     "text": [
      "Epoch:  0 Train Acc: 100.000 Test Acc: 44.472 Test Loss: 515.160\n",
      "Epoch:  5 Train Acc: 61.429 Test Acc: 53.495 Test Loss: 95.842\n",
      "Epoch:  10 Train Acc: 58.571 Test Acc: 55.904 Test Loss: 93.294\n",
      "Epoch:  15 Train Acc: 58.571 Test Acc: 55.689 Test Loss: 92.908\n",
      "Epoch:  20 Train Acc: 57.143 Test Acc: 56.761 Test Loss: 92.520\n",
      "Epoch:  25 Train Acc: 55.714 Test Acc: 57.459 Test Loss: 91.339\n",
      "Epoch:  30 Train Acc: 64.286 Test Acc: 56.725 Test Loss: 91.719\n",
      "Epoch:  35 Train Acc: 54.286 Test Acc: 59.114 Test Loss: 89.734\n",
      "Epoch:  40 Train Acc: 58.571 Test Acc: 58.618 Test Loss: 89.609\n",
      "Epoch:  45 Train Acc: 75.714 Test Acc: 62.190 Test Loss: 84.916\n",
      "Epoch:  50 Train Acc: 64.286 Test Acc: 64.930 Test Loss: 81.543\n",
      "Epoch:  55 Train Acc: 77.143 Test Acc: 66.789 Test Loss: 77.816\n",
      "Epoch:  60 Train Acc: 75.714 Test Acc: 69.390 Test Loss: 72.965\n",
      "Epoch:  65 Train Acc: 82.857 Test Acc: 72.920 Test Loss: 68.202\n",
      "Epoch:  70 Train Acc: 75.714 Test Acc: 74.803 Test Loss: 62.497\n",
      "Epoch:  75 Train Acc: 85.714 Test Acc: 77.952 Test Loss: 55.579\n",
      "Epoch:  80 Train Acc: 82.857 Test Acc: 82.219 Test Loss: 48.727\n",
      "Epoch:  85 Train Acc: 91.429 Test Acc: 83.448 Test Loss: 42.055\n",
      "Epoch:  90 Train Acc: 97.143 Test Acc: 90.662 Test Loss: 29.217\n",
      "Epoch:  95 Train Acc: 95.714 Test Acc: 93.403 Test Loss: 20.801\n"
     ]
    }
   ],
   "source": [
    "extra_update_ops = tf.get_collection(tf.GraphKeys.UPDATE_OPS)\n",
    "\n",
    "with tf.Session() as sess:\n",
    "    init.run()\n",
    "    \n",
    "    for epoch in range(n_epochs):\n",
    "        for batch_index in range(n_batches):\n",
    "            X_batch, y_batch = fetch_batch(epoch, batch_index, batch_size)\n",
    "            sess.run([training_op, extra_update_ops], feed_dict={training: True, X: X_batch, y: y_batch})\n",
    "        \n",
    "        if epoch % 5 == 0:\n",
    "            train_acc_val = accuracy.eval(feed_dict={X: X_batch, y: y_batch})    \n",
    "            test_acc_val = accuracy.eval(feed_dict={X: X_test, y: y_test}) \n",
    "            test_loss_val = loss.eval(feed_dict={X: X_test, y: y_test})\n",
    "        \n",
    "            print(\"Epoch: \", epoch, \"Train Acc: {:.3f}\".format(100*train_acc_val),\n",
    "                                    \"Test Acc: {:.3f}\".format(100*test_acc_val),\n",
    "                                    \"Test Loss: {:.3f}\".format(100*test_loss_val))"
   ]
  }
 ],
 "metadata": {
  "kernelspec": {
   "display_name": "Python 3",
   "language": "python",
   "name": "python3"
  },
  "language_info": {
   "codemirror_mode": {
    "name": "ipython",
    "version": 3
   },
   "file_extension": ".py",
   "mimetype": "text/x-python",
   "name": "python",
   "nbconvert_exporter": "python",
   "pygments_lexer": "ipython3",
   "version": "3.6.6"
  }
 },
 "nbformat": 4,
 "nbformat_minor": 2
}
