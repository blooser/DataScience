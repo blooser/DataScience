{
 "cells": [
  {
   "cell_type": "code",
   "execution_count": 1,
   "metadata": {},
   "outputs": [],
   "source": [
    "import pandas as pd\n",
    "import numpy as np\n",
    "%matplotlib inline \n",
    "import matplotlib.pyplot as plt"
   ]
  },
  {
   "cell_type": "code",
   "execution_count": 2,
   "metadata": {},
   "outputs": [],
   "source": [
    "dataset = pd.read_csv(\"audit_risk.csv\")"
   ]
  },
  {
   "cell_type": "code",
   "execution_count": 3,
   "metadata": {},
   "outputs": [
    {
     "data": {
      "text/html": [
       "<div>\n",
       "<style scoped>\n",
       "    .dataframe tbody tr th:only-of-type {\n",
       "        vertical-align: middle;\n",
       "    }\n",
       "\n",
       "    .dataframe tbody tr th {\n",
       "        vertical-align: top;\n",
       "    }\n",
       "\n",
       "    .dataframe thead th {\n",
       "        text-align: right;\n",
       "    }\n",
       "</style>\n",
       "<table border=\"1\" class=\"dataframe\">\n",
       "  <thead>\n",
       "    <tr style=\"text-align: right;\">\n",
       "      <th></th>\n",
       "      <th>Sector_score</th>\n",
       "      <th>LOCATION_ID</th>\n",
       "      <th>PARA_A</th>\n",
       "      <th>Score_A</th>\n",
       "      <th>Risk_A</th>\n",
       "      <th>PARA_B</th>\n",
       "      <th>Score_B</th>\n",
       "      <th>Risk_B</th>\n",
       "      <th>TOTAL</th>\n",
       "      <th>numbers</th>\n",
       "      <th>...</th>\n",
       "      <th>RiSk_E</th>\n",
       "      <th>History</th>\n",
       "      <th>Prob</th>\n",
       "      <th>Risk_F</th>\n",
       "      <th>Score</th>\n",
       "      <th>Inherent_Risk</th>\n",
       "      <th>CONTROL_RISK</th>\n",
       "      <th>Detection_Risk</th>\n",
       "      <th>Audit_Risk</th>\n",
       "      <th>Risk</th>\n",
       "    </tr>\n",
       "  </thead>\n",
       "  <tbody>\n",
       "    <tr>\n",
       "      <th>0</th>\n",
       "      <td>3.89</td>\n",
       "      <td>23</td>\n",
       "      <td>4.18</td>\n",
       "      <td>0.6</td>\n",
       "      <td>2.508</td>\n",
       "      <td>2.50</td>\n",
       "      <td>0.2</td>\n",
       "      <td>0.500</td>\n",
       "      <td>6.68</td>\n",
       "      <td>5.0</td>\n",
       "      <td>...</td>\n",
       "      <td>0.4</td>\n",
       "      <td>0</td>\n",
       "      <td>0.2</td>\n",
       "      <td>0.0</td>\n",
       "      <td>2.4</td>\n",
       "      <td>8.574</td>\n",
       "      <td>0.4</td>\n",
       "      <td>0.5</td>\n",
       "      <td>1.7148</td>\n",
       "      <td>1</td>\n",
       "    </tr>\n",
       "    <tr>\n",
       "      <th>1</th>\n",
       "      <td>3.89</td>\n",
       "      <td>6</td>\n",
       "      <td>0.00</td>\n",
       "      <td>0.2</td>\n",
       "      <td>0.000</td>\n",
       "      <td>4.83</td>\n",
       "      <td>0.2</td>\n",
       "      <td>0.966</td>\n",
       "      <td>4.83</td>\n",
       "      <td>5.0</td>\n",
       "      <td>...</td>\n",
       "      <td>0.4</td>\n",
       "      <td>0</td>\n",
       "      <td>0.2</td>\n",
       "      <td>0.0</td>\n",
       "      <td>2.0</td>\n",
       "      <td>2.554</td>\n",
       "      <td>0.4</td>\n",
       "      <td>0.5</td>\n",
       "      <td>0.5108</td>\n",
       "      <td>0</td>\n",
       "    </tr>\n",
       "    <tr>\n",
       "      <th>2</th>\n",
       "      <td>3.89</td>\n",
       "      <td>6</td>\n",
       "      <td>0.51</td>\n",
       "      <td>0.2</td>\n",
       "      <td>0.102</td>\n",
       "      <td>0.23</td>\n",
       "      <td>0.2</td>\n",
       "      <td>0.046</td>\n",
       "      <td>0.74</td>\n",
       "      <td>5.0</td>\n",
       "      <td>...</td>\n",
       "      <td>0.4</td>\n",
       "      <td>0</td>\n",
       "      <td>0.2</td>\n",
       "      <td>0.0</td>\n",
       "      <td>2.0</td>\n",
       "      <td>1.548</td>\n",
       "      <td>0.4</td>\n",
       "      <td>0.5</td>\n",
       "      <td>0.3096</td>\n",
       "      <td>0</td>\n",
       "    </tr>\n",
       "    <tr>\n",
       "      <th>3</th>\n",
       "      <td>3.89</td>\n",
       "      <td>6</td>\n",
       "      <td>0.00</td>\n",
       "      <td>0.2</td>\n",
       "      <td>0.000</td>\n",
       "      <td>10.80</td>\n",
       "      <td>0.6</td>\n",
       "      <td>6.480</td>\n",
       "      <td>10.80</td>\n",
       "      <td>6.0</td>\n",
       "      <td>...</td>\n",
       "      <td>0.4</td>\n",
       "      <td>0</td>\n",
       "      <td>0.2</td>\n",
       "      <td>0.0</td>\n",
       "      <td>4.4</td>\n",
       "      <td>17.530</td>\n",
       "      <td>0.4</td>\n",
       "      <td>0.5</td>\n",
       "      <td>3.5060</td>\n",
       "      <td>1</td>\n",
       "    </tr>\n",
       "    <tr>\n",
       "      <th>4</th>\n",
       "      <td>3.89</td>\n",
       "      <td>6</td>\n",
       "      <td>0.00</td>\n",
       "      <td>0.2</td>\n",
       "      <td>0.000</td>\n",
       "      <td>0.08</td>\n",
       "      <td>0.2</td>\n",
       "      <td>0.016</td>\n",
       "      <td>0.08</td>\n",
       "      <td>5.0</td>\n",
       "      <td>...</td>\n",
       "      <td>0.4</td>\n",
       "      <td>0</td>\n",
       "      <td>0.2</td>\n",
       "      <td>0.0</td>\n",
       "      <td>2.0</td>\n",
       "      <td>1.416</td>\n",
       "      <td>0.4</td>\n",
       "      <td>0.5</td>\n",
       "      <td>0.2832</td>\n",
       "      <td>0</td>\n",
       "    </tr>\n",
       "  </tbody>\n",
       "</table>\n",
       "<p>5 rows × 27 columns</p>\n",
       "</div>"
      ],
      "text/plain": [
       "   Sector_score LOCATION_ID  PARA_A  Score_A  Risk_A  PARA_B  Score_B  Risk_B  \\\n",
       "0          3.89          23    4.18      0.6   2.508    2.50      0.2   0.500   \n",
       "1          3.89           6    0.00      0.2   0.000    4.83      0.2   0.966   \n",
       "2          3.89           6    0.51      0.2   0.102    0.23      0.2   0.046   \n",
       "3          3.89           6    0.00      0.2   0.000   10.80      0.6   6.480   \n",
       "4          3.89           6    0.00      0.2   0.000    0.08      0.2   0.016   \n",
       "\n",
       "   TOTAL  numbers  ...   RiSk_E  History  Prob  Risk_F  Score  Inherent_Risk  \\\n",
       "0   6.68      5.0  ...      0.4        0   0.2     0.0    2.4          8.574   \n",
       "1   4.83      5.0  ...      0.4        0   0.2     0.0    2.0          2.554   \n",
       "2   0.74      5.0  ...      0.4        0   0.2     0.0    2.0          1.548   \n",
       "3  10.80      6.0  ...      0.4        0   0.2     0.0    4.4         17.530   \n",
       "4   0.08      5.0  ...      0.4        0   0.2     0.0    2.0          1.416   \n",
       "\n",
       "   CONTROL_RISK  Detection_Risk  Audit_Risk  Risk  \n",
       "0           0.4             0.5      1.7148     1  \n",
       "1           0.4             0.5      0.5108     0  \n",
       "2           0.4             0.5      0.3096     0  \n",
       "3           0.4             0.5      3.5060     1  \n",
       "4           0.4             0.5      0.2832     0  \n",
       "\n",
       "[5 rows x 27 columns]"
      ]
     },
     "execution_count": 3,
     "metadata": {},
     "output_type": "execute_result"
    }
   ],
   "source": [
    "dataset.head()"
   ]
  },
  {
   "cell_type": "code",
   "execution_count": 4,
   "metadata": {},
   "outputs": [
    {
     "data": {
      "text/plain": [
       "0    471\n",
       "1    305\n",
       "Name: Risk, dtype: int64"
      ]
     },
     "execution_count": 4,
     "metadata": {},
     "output_type": "execute_result"
    }
   ],
   "source": [
    "dataset[\"Risk\"].value_counts()"
   ]
  },
  {
   "cell_type": "code",
   "execution_count": 5,
   "metadata": {},
   "outputs": [
    {
     "data": {
      "text/plain": [
       "array([[<matplotlib.axes._subplots.AxesSubplot object at 0x7f601b8af9b0>,\n",
       "        <matplotlib.axes._subplots.AxesSubplot object at 0x7f601988e0f0>,\n",
       "        <matplotlib.axes._subplots.AxesSubplot object at 0x7f6019837668>,\n",
       "        <matplotlib.axes._subplots.AxesSubplot object at 0x7f60197dfbe0>,\n",
       "        <matplotlib.axes._subplots.AxesSubplot object at 0x7f601980d198>],\n",
       "       [<matplotlib.axes._subplots.AxesSubplot object at 0x7f60197b6710>,\n",
       "        <matplotlib.axes._subplots.AxesSubplot object at 0x7f60197ddc88>,\n",
       "        <matplotlib.axes._subplots.AxesSubplot object at 0x7f601978c278>,\n",
       "        <matplotlib.axes._subplots.AxesSubplot object at 0x7f601978c2b0>,\n",
       "        <matplotlib.axes._subplots.AxesSubplot object at 0x7f6019759d30>],\n",
       "       [<matplotlib.axes._subplots.AxesSubplot object at 0x7f601970b2e8>,\n",
       "        <matplotlib.axes._subplots.AxesSubplot object at 0x7f60196b4860>,\n",
       "        <matplotlib.axes._subplots.AxesSubplot object at 0x7f60196dbda0>,\n",
       "        <matplotlib.axes._subplots.AxesSubplot object at 0x7f601968c358>,\n",
       "        <matplotlib.axes._subplots.AxesSubplot object at 0x7f60196338d0>],\n",
       "       [<matplotlib.axes._subplots.AxesSubplot object at 0x7f6019659e48>,\n",
       "        <matplotlib.axes._subplots.AxesSubplot object at 0x7f601960a400>,\n",
       "        <matplotlib.axes._subplots.AxesSubplot object at 0x7f60195af978>,\n",
       "        <matplotlib.axes._subplots.AxesSubplot object at 0x7f60195daef0>,\n",
       "        <matplotlib.axes._subplots.AxesSubplot object at 0x7f601958b4a8>],\n",
       "       [<matplotlib.axes._subplots.AxesSubplot object at 0x7f6019531a20>,\n",
       "        <matplotlib.axes._subplots.AxesSubplot object at 0x7f6019559f98>,\n",
       "        <matplotlib.axes._subplots.AxesSubplot object at 0x7f6019509550>,\n",
       "        <matplotlib.axes._subplots.AxesSubplot object at 0x7f60194afac8>,\n",
       "        <matplotlib.axes._subplots.AxesSubplot object at 0x7f6019462080>],\n",
       "       [<matplotlib.axes._subplots.AxesSubplot object at 0x7f60194885f8>,\n",
       "        <matplotlib.axes._subplots.AxesSubplot object at 0x7f601942fb70>,\n",
       "        <matplotlib.axes._subplots.AxesSubplot object at 0x7f60193df128>,\n",
       "        <matplotlib.axes._subplots.AxesSubplot object at 0x7f60194066a0>,\n",
       "        <matplotlib.axes._subplots.AxesSubplot object at 0x7f60193aec18>]],\n",
       "      dtype=object)"
      ]
     },
     "execution_count": 5,
     "metadata": {},
     "output_type": "execute_result"
    },
    {
     "data": {
      "image/png": "[encoded data removed]",
      "text/plain": [
       "<Figure size 1080x1080 with 30 Axes>"
      ]
     },
     "metadata": {
      "needs_background": "light"
     },
     "output_type": "display_data"
    }
   ],
   "source": [
    "dataset.hist(bins=15, figsize=(15, 15))"
   ]
  },
  {
   "cell_type": "code",
   "execution_count": 6,
   "metadata": {},
   "outputs": [
    {
     "data": {
      "text/plain": [
       "Risk              1.000000\n",
       "Score             0.785995\n",
       "Score_MV          0.688367\n",
       "Score_B           0.635768\n",
       "Score_A           0.619726\n",
       "CONTROL_RISK      0.416474\n",
       "RiSk_E            0.411803\n",
       "District_Loss     0.403806\n",
       "Risk_A            0.385067\n",
       "PARA_A            0.378758\n",
       "Inherent_Risk     0.357020\n",
       "Score_B.1         0.353803\n",
       "Risk_C            0.342140\n",
       "numbers           0.308141\n",
       "Prob              0.298639\n",
       "TOTAL             0.292022\n",
       "PARA_B            0.257029\n",
       "Money_Value       0.256992\n",
       "Risk_B            0.255286\n",
       "Risk_D            0.254355\n",
       "History           0.239453\n",
       "Audit_Risk        0.217113\n",
       "Risk_F            0.214511\n",
       "PROB              0.176912\n",
       "Sector_score     -0.394131\n",
       "Detection_Risk         NaN\n",
       "Name: Risk, dtype: float64"
      ]
     },
     "execution_count": 6,
     "metadata": {},
     "output_type": "execute_result"
    }
   ],
   "source": [
    "corr_matrix = dataset.corr()\n",
    "corr_matrix[\"Risk\"].sort_values(ascending=False)"
   ]
  },
  {
   "cell_type": "code",
   "execution_count": 7,
   "metadata": {},
   "outputs": [],
   "source": [
    "train_attr = [\"Score\", \"Score_MV\", \"Score_B\", \"Score_A\", \"CONTROL_RISK\", \"RiSk_E\", \"District_Loss\", \"Risk_A\",\n",
    "              \"PARA_A\", \"Inherent_Risk\", \"Score_B.1\", \"Risk_C\", \"numbers\", \"Sector_score\"]\n",
    "\n",
    "X_data = dataset[train_attr].values\n",
    "m, n = X_data.shape\n",
    "\n",
    "y_data = dataset.iloc[:, -1].values"
   ]
  },
  {
   "cell_type": "code",
   "execution_count": 8,
   "metadata": {},
   "outputs": [],
   "source": [
    "n_inputs = n\n",
    "n_hidden1 = 115\n",
    "n_hidden2 = 45\n",
    "n_outputs = 2"
   ]
  },
  {
   "cell_type": "code",
   "execution_count": 9,
   "metadata": {},
   "outputs": [],
   "source": [
    "test_ratio = 0.2\n",
    "test_size = int(m*test_ratio)\n",
    "train_size = m - test_size\n",
    "\n",
    "X_train = X_data[:-test_size]\n",
    "X_test = X_data[-test_size:]\n",
    "y_train = y_data[:-test_size]\n",
    "y_test = y_data[-test_size:]"
   ]
  },
  {
   "cell_type": "code",
   "execution_count": 10,
   "metadata": {},
   "outputs": [],
   "source": [
    "from sklearn.preprocessing import StandardScaler\n",
    "\n",
    "scaler = StandardScaler()\n",
    "X_train = scaler.fit_transform(X_train)\n",
    "X_test = scaler.transform(X_test)"
   ]
  },
  {
   "cell_type": "code",
   "execution_count": 11,
   "metadata": {},
   "outputs": [],
   "source": [
    "import tensorflow as tf\n",
    "\n",
    "X = tf.placeholder(tf.float32, shape=(None, n_inputs))\n",
    "y = tf.placeholder(tf.int32, shape=(None))"
   ]
  },
  {
   "cell_type": "code",
   "execution_count": 12,
   "metadata": {},
   "outputs": [],
   "source": [
    "threshold = 1.0\n",
    "\n",
    "def max_norm_regularizer(threshold, axes=1, collection=\"max_norm\"):\n",
    "    def max_norm(weights):\n",
    "        clipped = tf.clip_by_norm(weights, clip_norm=threshold, axes=axes)\n",
    "        clip_weights = tf.assign(weights, clipped)\n",
    "        tf.add_to_collection(collection, clip_weights)\n",
    "        return None\n",
    "    return max_norm"
   ]
  },
  {
   "cell_type": "code",
   "execution_count": 13,
   "metadata": {},
   "outputs": [],
   "source": [
    "max_norm_reg = max_norm_regularizer(threshold=1.0)\n",
    "\n",
    "hidden1 = tf.layers.dense(X, n_hidden1, activation=tf.nn.elu, kernel_regularizer=max_norm_reg)\n",
    "hidden2 = tf.layers.dense(hidden1, n_hidden2, activation=tf.nn.elu, kernel_regularizer=max_norm_reg)\n",
    "logits = tf.layers.dense(hidden2, n_outputs)"
   ]
  },
  {
   "cell_type": "code",
   "execution_count": 14,
   "metadata": {},
   "outputs": [],
   "source": [
    "xentropy = tf.nn.sparse_softmax_cross_entropy_with_logits(labels=y, logits=logits)\n",
    "loss = tf.reduce_mean(xentropy)"
   ]
  },
  {
   "cell_type": "code",
   "execution_count": 15,
   "metadata": {},
   "outputs": [],
   "source": [
    "learning_rate = 0.01\n",
    "\n",
    "optimizer = tf.train.AdamOptimizer(learning_rate)\n",
    "training_op = optimizer.minimize(loss)"
   ]
  },
  {
   "cell_type": "code",
   "execution_count": 16,
   "metadata": {},
   "outputs": [],
   "source": [
    "correct = tf.nn.in_top_k(logits, y, 1)\n",
    "accuracy = tf.reduce_mean(tf.cast(correct, tf.float32))"
   ]
  },
  {
   "cell_type": "code",
   "execution_count": 17,
   "metadata": {},
   "outputs": [],
   "source": [
    "init = tf.global_variables_initializer()"
   ]
  },
  {
   "cell_type": "code",
   "execution_count": 23,
   "metadata": {},
   "outputs": [],
   "source": [
    "n_epochs = 25\n",
    "batch_size = 35\n",
    "n_batches = int(np.ceil(m/batch_size))"
   ]
  },
  {
   "cell_type": "code",
   "execution_count": 19,
   "metadata": {},
   "outputs": [],
   "source": [
    "def fetch_batch(epoch, batch_index, batch_size):\n",
    "    np.random.seed(epoch * batch_index + batch_size)\n",
    "    indices = np.random.randint(train_size, size=batch_size)\n",
    "    X_batch = X_train[indices]\n",
    "    y_batch = y_train[indices]\n",
    "    return X_batch, y_batch"
   ]
  },
  {
   "cell_type": "code",
   "execution_count": 24,
   "metadata": {},
   "outputs": [
    {
     "name": "stdout",
     "output_type": "stream",
     "text": [
      "Epoch: 0 Train Acc: 100.000 Test Acc: 96.129\n",
      "Epoch: 1 Train Acc: 97.143 Test Acc: 98.710\n",
      "Epoch: 2 Train Acc: 100.000 Test Acc: 98.710\n",
      "Epoch: 3 Train Acc: 97.143 Test Acc: 98.710\n",
      "Epoch: 4 Train Acc: 100.000 Test Acc: 98.710\n",
      "Epoch: 5 Train Acc: 97.143 Test Acc: 98.710\n",
      "Epoch: 6 Train Acc: 97.143 Test Acc: 98.710\n",
      "Epoch: 7 Train Acc: 100.000 Test Acc: 98.710\n",
      "Epoch: 8 Train Acc: 100.000 Test Acc: 97.419\n",
      "Epoch: 9 Train Acc: 100.000 Test Acc: 98.710\n",
      "Epoch: 10 Train Acc: 100.000 Test Acc: 98.710\n",
      "Epoch: 11 Train Acc: 100.000 Test Acc: 98.065\n",
      "Epoch: 12 Train Acc: 94.286 Test Acc: 98.710\n",
      "Epoch: 13 Train Acc: 100.000 Test Acc: 98.065\n",
      "Epoch: 14 Train Acc: 100.000 Test Acc: 98.710\n",
      "Epoch: 15 Train Acc: 94.286 Test Acc: 98.065\n",
      "Epoch: 16 Train Acc: 97.143 Test Acc: 90.968\n",
      "Epoch: 17 Train Acc: 100.000 Test Acc: 97.419\n",
      "Epoch: 18 Train Acc: 100.000 Test Acc: 98.710\n",
      "Epoch: 19 Train Acc: 97.143 Test Acc: 98.710\n",
      "Epoch: 20 Train Acc: 97.143 Test Acc: 98.710\n",
      "Epoch: 21 Train Acc: 91.429 Test Acc: 98.710\n",
      "Epoch: 22 Train Acc: 97.143 Test Acc: 96.774\n",
      "Epoch: 23 Train Acc: 91.429 Test Acc: 94.194\n",
      "Epoch: 24 Train Acc: 100.000 Test Acc: 98.710\n"
     ]
    }
   ],
   "source": [
    "clip_all_weights = tf.get_collection(\"max_norm\")\n",
    "\n",
    "with tf.Session() as sess:\n",
    "    init.run()\n",
    "    \n",
    "    for epoch in range(n_epochs):\n",
    "        for batch_index in range(n_batches):\n",
    "            X_batch, y_batch = fetch_batch(epoch, batch_index, batch_size)\n",
    "            sess.run(training_op, feed_dict={X: X_batch, y: y_batch})\n",
    "            sess.run(clip_all_weights)\n",
    "            \n",
    "        train_acc_val = accuracy.eval(feed_dict={X: X_batch, y: y_batch})\n",
    "        test_acc_val = accuracy.eval(feed_dict={X: X_test, y: y_test})\n",
    "            \n",
    "        print(\"Epoch:\", epoch, \"Train Acc: {:.3f}\".format(100*train_acc_val), \n",
    "                               \"Test Acc: {:.3f}\".format(100*test_acc_val))"
   ]
  }
 ],
 "metadata": {
  "kernelspec": {
   "display_name": "Python 3",
   "language": "python",
   "name": "python3"
  },
  "language_info": {
   "codemirror_mode": {
    "name": "ipython",
    "version": 3
   },
   "file_extension": ".py",
   "mimetype": "text/x-python",
   "name": "python",
   "nbconvert_exporter": "python",
   "pygments_lexer": "ipython3",
   "version": "3.6.6"
  }
 },
 "nbformat": 4,
 "nbformat_minor": 2
}
